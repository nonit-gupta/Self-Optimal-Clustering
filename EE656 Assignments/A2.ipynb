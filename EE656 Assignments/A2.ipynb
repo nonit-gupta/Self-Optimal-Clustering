{
 "cells": [
  {
   "cell_type": "markdown",
   "id": "bd67642b",
   "metadata": {},
   "source": [
    "### Required libraries import"
   ]
  },
  {
   "cell_type": "code",
   "execution_count": 1,
   "id": "94030190",
   "metadata": {},
   "outputs": [],
   "source": [
    "import numpy as np\n",
    "import pandas as pd"
   ]
  },
  {
   "cell_type": "markdown",
   "id": "6287bb84",
   "metadata": {},
   "source": [
    "### Question 1"
   ]
  },
  {
   "cell_type": "code",
   "execution_count": 2,
   "id": "52c22631",
   "metadata": {},
   "outputs": [
    {
     "name": "stdout",
     "output_type": "stream",
     "text": [
      "0 5\n",
      "1 4\n",
      "2 6\n",
      "3 6\n"
     ]
    }
   ],
   "source": [
    "a = np.array([1, 7, 3, 10, 14, 76, 4])\n",
    "n = len(a)\n",
    "\n",
    "for i in range(n):\n",
    "    for j in range(i+1,n):\n",
    "        if(a[i]+a[j])%7==0:\n",
    "            print(i,j)"
   ]
  },
  {
   "cell_type": "markdown",
   "id": "bb16c1a7",
   "metadata": {},
   "source": [
    "### Question 2"
   ]
  },
  {
   "cell_type": "code",
   "execution_count": 3,
   "id": "30589e57",
   "metadata": {},
   "outputs": [
    {
     "name": "stdout",
     "output_type": "stream",
     "text": [
      "A inverse (A_inv):\n",
      " [[ 0.34883721 -0.13953488  0.09302326]\n",
      " [ 0.3255814   0.06976744 -0.04651163]\n",
      " [-0.27131783  0.10852713  0.03875969]]\n",
      "\n",
      "Dot product:\n",
      " [[ 0.86046512  1.1627907   1.46511628]\n",
      " [ 2.06976744  2.41860465  2.76744186]\n",
      " [-0.55813953 -0.68217054 -0.80620155]]\n",
      "\n",
      "Element-wise multiplication:\n",
      " [[ 1.74418605 -0.8372093   0.65116279]\n",
      " [ 2.27906977  0.55813953 -0.41860465]\n",
      " [-0.27131783  0.21705426  0.11627907]]\n"
     ]
    }
   ],
   "source": [
    "A = np.array([[1, 2, 0],[0, 5, 6],[7, 0, 9]])\n",
    "B = np.array([[5, 6, 7],[7, 8, 9],[1, 2, 3]])\n",
    "\n",
    "A_inv = np.linalg.inv(A)\n",
    "dot_product = np.dot(A_inv, B)\n",
    "elementwise = A_inv * B\n",
    "print(\"A inverse (A_inv):\\n\", A_inv)\n",
    "print(\"\\nDot product:\\n\", dot_product)\n",
    "print(\"\\nElement-wise multiplication:\\n\", elementwise)"
   ]
  },
  {
   "cell_type": "markdown",
   "id": "751bb527",
   "metadata": {},
   "source": [
    "### Question 3"
   ]
  },
  {
   "cell_type": "code",
   "execution_count": 4,
   "id": "d8fcd8fd",
   "metadata": {},
   "outputs": [
    {
     "name": "stdout",
     "output_type": "stream",
     "text": [
      "First 2 rows:\n",
      "    A  B  C   D   E\n",
      "1  1  8  2  10  11\n",
      "0  1  2  3   4   5\n",
      "\n",
      "Last 2 rows:\n",
      "    A   B   C   D   E\n",
      "3  7   8   9  10  11\n",
      "4  7  18  19  10  11\n",
      "\n",
      "df2 as NumPy array:\n",
      " [[ 1  8  2 10 11]\n",
      " [ 1  2  3  4  5]\n",
      " [ 4  5  6  7  8]\n",
      " [ 7  8  9 10 11]\n",
      " [ 7 18 19 10 11]]\n"
     ]
    }
   ],
   "source": [
    "data = np.array([[1, 2, 3, 4, 5], [1, 8, 2, 10, 11], [4, 5, 6, 7, 8],[7, 8, 9, 10, 11], [7, 18, 19, 10, 11]])\n",
    "# (a) Creating DataFrame df\n",
    "df = pd.DataFrame(data,columns=['A','B','C','D','E'])\n",
    "# (b) Sort by column 'C' and create df2\n",
    "df2 = df.sort_values(by='C')\n",
    "# First 2 and last 2 rows of df2\n",
    "print(\"First 2 rows:\\n\", df2.head(2))\n",
    "print(\"\\nLast 2 rows:\\n\", df2.tail(2))\n",
    "# (c) df2 as NumPy array\n",
    "print(\"\\ndf2 as NumPy array:\\n\", df2.values)"
   ]
  },
  {
   "cell_type": "markdown",
   "id": "1c21a923",
   "metadata": {},
   "source": [
    "### Question 4"
   ]
  },
  {
   "cell_type": "code",
   "execution_count": 5,
   "id": "d32207c8",
   "metadata": {},
   "outputs": [
    {
     "name": "stdout",
     "output_type": "stream",
     "text": [
      "Eigenvalues of A:\n",
      " [10.5740355 +0.j          2.21298225+2.70229602j  2.21298225-2.70229602j]\n",
      "\n",
      "Spectral radius of A:\n",
      " 10.57403549813147\n"
     ]
    }
   ],
   "source": [
    "A = np.array([[1, 2, 0],[0, 5, 6],[7, 0, 9]])\n",
    "\n",
    "eigenvalues, _ = np.linalg.eig(A)\n",
    "spectral_radius = np.max(np.abs(eigenvalues))\n",
    "\n",
    "print(\"Eigenvalues of A:\\n\", eigenvalues)\n",
    "print(\"\\nSpectral radius of A:\\n\", spectral_radius)"
   ]
  },
  {
   "cell_type": "markdown",
   "id": "8d1e59dc",
   "metadata": {},
   "source": [
    "### Question 5"
   ]
  },
  {
   "cell_type": "markdown",
   "id": "7310d345",
   "metadata": {},
   "source": [
    "Part (a)"
   ]
  },
  {
   "cell_type": "code",
   "execution_count": 6,
   "id": "dd8c69f3",
   "metadata": {},
   "outputs": [
    {
     "name": "stdout",
     "output_type": "stream",
     "text": [
      "U matrix:\n",
      " [[-0.58909693  0.10053691 -0.80178373]\n",
      " [-0.78215124 -0.32019549  0.53452248]\n",
      " [-0.20298829  0.94200169  0.26726124]]\n",
      "\n",
      "Singular values S:\n",
      " [1.78028049e+01 1.02963004e+00 1.32011803e-15]\n",
      "\n",
      "Sigma matrix:\n",
      " [[1.78028049e+01 0.00000000e+00 0.00000000e+00]\n",
      " [0.00000000e+00 1.02963004e+00 0.00000000e+00]\n",
      " [0.00000000e+00 0.00000000e+00 1.32011803e-15]]\n",
      "\n",
      "Vt matrix:\n",
      " [[-0.48439174 -0.57281806 -0.66124437]\n",
      " [-0.77375576 -0.07219979  0.62935619]\n",
      " [ 0.40824829 -0.81649658  0.40824829]]\n"
     ]
    }
   ],
   "source": [
    "B = np.array([\n",
    "    [5, 6, 7],\n",
    "    [7, 8, 9],\n",
    "    [1, 2, 3]\n",
    "])\n",
    "\n",
    "# Compute SVD\n",
    "U, S, Vt = np.linalg.svd(B, full_matrices=False)\n",
    "\n",
    "# Convert S to a diagonal matrix\n",
    "Sigma = np.diag(S)\n",
    "\n",
    "print(\"U matrix:\\n\", U)\n",
    "print(\"\\nSingular values S:\\n\", S)\n",
    "print(\"\\nSigma matrix:\\n\", Sigma)\n",
    "print(\"\\nVt matrix:\\n\", Vt)"
   ]
  },
  {
   "cell_type": "markdown",
   "id": "9cbb8798",
   "metadata": {},
   "source": [
    "Part (b)"
   ]
  },
  {
   "cell_type": "code",
   "execution_count": 7,
   "id": "e52090f5",
   "metadata": {},
   "outputs": [
    {
     "name": "stdout",
     "output_type": "stream",
     "text": [
      "Reconstruction accurate: True\n"
     ]
    }
   ],
   "source": [
    "# Reconstruct B using SVD components\n",
    "B_recon = U @ Sigma @ Vt\n",
    "# Check if reconstructed B is close to the original\n",
    "is_close = np.allclose(B, B_recon, atol=1e-10)\n",
    "print(\"Reconstruction accurate:\", is_close)"
   ]
  },
  {
   "cell_type": "markdown",
   "id": "57f7d151",
   "metadata": {},
   "source": [
    "Part (c)"
   ]
  },
  {
   "cell_type": "code",
   "execution_count": 8,
   "id": "f6aee73a",
   "metadata": {},
   "outputs": [
    {
     "name": "stdout",
     "output_type": "stream",
     "text": [
      "Spectral (2-norm) condition number κ₂(B): 1.348576759642456e+16\n"
     ]
    }
   ],
   "source": [
    "# Spectral condition number (2-norm)\n",
    "kappa_2 = S[0]/S[-1]  # Since S is sorted in descending order\n",
    "print(\"Spectral (2-norm) condition number κ₂(B):\", kappa_2)"
   ]
  }
 ],
 "metadata": {
  "kernelspec": {
   "display_name": "Python 3",
   "language": "python",
   "name": "python3"
  },
  "language_info": {
   "codemirror_mode": {
    "name": "ipython",
    "version": 3
   },
   "file_extension": ".py",
   "mimetype": "text/x-python",
   "name": "python",
   "nbconvert_exporter": "python",
   "pygments_lexer": "ipython3",
   "version": "3.13.0"
  }
 },
 "nbformat": 4,
 "nbformat_minor": 5
}
